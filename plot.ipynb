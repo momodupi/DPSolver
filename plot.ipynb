{
 "cells": [
  {
   "cell_type": "code",
   "execution_count": 1,
   "metadata": {},
   "outputs": [],
   "source": [
    "import numpy as np"
   ]
  },
  {
   "cell_type": "code",
   "execution_count": 14,
   "metadata": {},
   "outputs": [
    {
     "data": {
      "text/plain": [
       "array([[[  1. ,   2. ,   3. ,   3.1],\n",
       "        [  4. ,   5. ,   6. ,   6.1],\n",
       "        [  7. ,   8. ,   9. ,   9.1]],\n",
       "\n",
       "       [[ 11. ,  12. ,  13. ,  13.1],\n",
       "        [ 14. ,  15. ,  16. ,  16.1],\n",
       "        [ 17. ,  18. ,  19. ,  19.1]],\n",
       "\n",
       "       [[111. , 112. , 113. , 113.1],\n",
       "        [114. , 115. , 116. , 116.1],\n",
       "        [117. , 118. , 119. , 119.1]]])"
      ]
     },
     "execution_count": 14,
     "metadata": {},
     "output_type": "execute_result"
    }
   ],
   "source": [
    "a = np.array(\n",
    "    [\n",
    "        [\n",
    "            [1,2,3,3.1],[4,5,6,6.1],[7,8,9,9.1]\n",
    "        ],\n",
    "        [\n",
    "            [11,12,13,13.1],[14,15,16,16.1],[17,18,19,19.1]\n",
    "        ],\n",
    "        [\n",
    "            [111,112,113,113.1],[114,115,116,116.1],[117,118,119,119.1]\n",
    "        ]\n",
    "    ]\n",
    ")\n",
    "a"
   ]
  },
  {
   "cell_type": "code",
   "execution_count": 16,
   "metadata": {},
   "outputs": [
    {
     "data": {
      "text/plain": [
       "array([[111. , 112. , 113. , 113.1],\n",
       "       [114. , 115. , 116. , 116.1],\n",
       "       [117. , 118. , 119. , 119.1]])"
      ]
     },
     "execution_count": 16,
     "metadata": {},
     "output_type": "execute_result"
    }
   ],
   "source": [
    "a.max(axis=0)"
   ]
  },
  {
   "cell_type": "code",
   "execution_count": null,
   "metadata": {},
   "outputs": [],
   "source": []
  }
 ],
 "metadata": {
  "kernelspec": {
   "display_name": "base",
   "language": "python",
   "name": "python3"
  },
  "language_info": {
   "codemirror_mode": {
    "name": "ipython",
    "version": 3
   },
   "file_extension": ".py",
   "mimetype": "text/x-python",
   "name": "python",
   "nbconvert_exporter": "python",
   "pygments_lexer": "ipython3",
   "version": "3.10.8"
  },
  "orig_nbformat": 4,
  "vscode": {
   "interpreter": {
    "hash": "c95b7bcfccdbacccf4ee06abcc950c3e9e719b6efe8ff81c1f2bd440abfea29a"
   }
  }
 },
 "nbformat": 4,
 "nbformat_minor": 2
}
